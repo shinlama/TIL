{
 "cells": [
  {
   "cell_type": "markdown",
   "id": "23ea5d47",
   "metadata": {},
   "source": [
    "# 밑바닥부터 시작하는 딥러닝"
   ]
  },
  {
   "cell_type": "markdown",
   "id": "6e2a8d81",
   "metadata": {},
   "source": [
    "## Chap 1. 헬로 파이썬"
   ]
  },
  {
   "cell_type": "markdown",
   "id": "3c36c7f9",
   "metadata": {},
   "source": [
    "## 1.1 파이썬이란?"
   ]
  },
  {
   "cell_type": "markdown",
   "id": "3d7c9ae9",
   "metadata": {},
   "source": [
    "배우기 쉽고 간단한 프로그래밍 언어, 오픈소스.  \n",
    "**머신러닝과 데이터 사이언스**에 널리 쓰임  \n",
    "파이썬 + 넘파이 등의 라이브러리  \n",
    "딥러닝 프레임워크(ex. Caffe, TensorFlow, Chainer, Theano)들이 파이썬용 API 제공"
   ]
  },
  {
   "cell_type": "markdown",
   "id": "1c187714",
   "metadata": {},
   "source": [
    "## 1.2 파이썬 설치"
   ]
  },
  {
   "cell_type": "markdown",
   "id": "bdf8c9b6",
   "metadata": {},
   "source": [
    "### 1.2.1 파이썬 버전\n",
    "현재 2.x와 3.x 공존"
   ]
  },
  {
   "cell_type": "markdown",
   "id": "ee83bf01",
   "metadata": {},
   "source": [
    "### 1.2.2 사용하는 외부 라이브러리\n",
    "이 책에서는 넘파이(수치 계산용, 수학 알고리즘과 행렬 조작을 위한 메서드 활용)와 matplotlib(그래프로 시각화) 사용"
   ]
  },
  {
   "cell_type": "markdown",
   "id": "7d5b41af",
   "metadata": {},
   "source": [
    "### 1.2.3 아나콘다"
   ]
  },
  {
   "cell_type": "markdown",
   "id": "28a8bb62",
   "metadata": {},
   "source": [
    "## 1.3 파이썬 인터프리터"
   ]
  },
  {
   "cell_type": "code",
   "execution_count": 7,
   "id": "db18c59b",
   "metadata": {},
   "outputs": [
    {
     "name": "stdout",
     "output_type": "stream",
     "text": [
      "Python 3.9.7\n"
     ]
    }
   ],
   "source": [
    "%%bash\n",
    "\n",
    "# python 버전 확인\n",
    "\n",
    "python --version"
   ]
  },
  {
   "cell_type": "code",
   "execution_count": 8,
   "id": "9d576d68",
   "metadata": {},
   "outputs": [
    {
     "data": {
      "text/plain": [
       "3"
      ]
     },
     "execution_count": 8,
     "metadata": {},
     "output_type": "execute_result"
    }
   ],
   "source": [
    "1 + 2"
   ]
  },
  {
   "cell_type": "markdown",
   "id": "f2367806",
   "metadata": {},
   "source": [
    "### 1.3.1 산술 연산"
   ]
  },
  {
   "cell_type": "code",
   "execution_count": 9,
   "id": "a65b3dba",
   "metadata": {},
   "outputs": [
    {
     "data": {
      "text/plain": [
       "-1"
      ]
     },
     "execution_count": 9,
     "metadata": {},
     "output_type": "execute_result"
    }
   ],
   "source": [
    "1 - 2"
   ]
  },
  {
   "cell_type": "code",
   "execution_count": 10,
   "id": "c265c581",
   "metadata": {},
   "outputs": [
    {
     "data": {
      "text/plain": [
       "20"
      ]
     },
     "execution_count": 10,
     "metadata": {},
     "output_type": "execute_result"
    }
   ],
   "source": [
    "4 * 5"
   ]
  },
  {
   "cell_type": "code",
   "execution_count": 11,
   "id": "5f79741b",
   "metadata": {},
   "outputs": [
    {
     "data": {
      "text/plain": [
       "1.4"
      ]
     },
     "execution_count": 11,
     "metadata": {},
     "output_type": "execute_result"
    }
   ],
   "source": [
    "7 / 5"
   ]
  },
  {
   "cell_type": "code",
   "execution_count": 12,
   "id": "3b8e805c",
   "metadata": {},
   "outputs": [
    {
     "data": {
      "text/plain": [
       "9"
      ]
     },
     "execution_count": 12,
     "metadata": {},
     "output_type": "execute_result"
    }
   ],
   "source": [
    "3 ** 2"
   ]
  },
  {
   "cell_type": "markdown",
   "id": "77090938",
   "metadata": {},
   "source": [
    "### 1.3.2 자료형"
   ]
  },
  {
   "cell_type": "markdown",
   "id": "0457743e",
   "metadata": {},
   "source": [
    "자료형 data type(정수, 실수, 문자열 등등)"
   ]
  },
  {
   "cell_type": "code",
   "execution_count": 15,
   "id": "4880eab2",
   "metadata": {},
   "outputs": [
    {
     "data": {
      "text/plain": [
       "int"
      ]
     },
     "execution_count": 15,
     "metadata": {},
     "output_type": "execute_result"
    }
   ],
   "source": [
    "type(10)"
   ]
  },
  {
   "cell_type": "code",
   "execution_count": 16,
   "id": "0fefde16",
   "metadata": {},
   "outputs": [
    {
     "data": {
      "text/plain": [
       "float"
      ]
     },
     "execution_count": 16,
     "metadata": {},
     "output_type": "execute_result"
    }
   ],
   "source": [
    "type(2.718)"
   ]
  },
  {
   "cell_type": "code",
   "execution_count": 17,
   "id": "eebadcdf",
   "metadata": {},
   "outputs": [
    {
     "data": {
      "text/plain": [
       "str"
      ]
     },
     "execution_count": 17,
     "metadata": {},
     "output_type": "execute_result"
    }
   ],
   "source": [
    "type('hello')"
   ]
  },
  {
   "cell_type": "markdown",
   "id": "5f8bc296",
   "metadata": {},
   "source": [
    "### 1.3.3 변수"
   ]
  },
  {
   "cell_type": "markdown",
   "id": "6eebc728",
   "metadata": {},
   "source": [
    "변수를 통해 계산하거나 변수에 다른 값 대입할 수 있다."
   ]
  },
  {
   "cell_type": "code",
   "execution_count": 19,
   "id": "6dc3b86c",
   "metadata": {},
   "outputs": [
    {
     "name": "stdout",
     "output_type": "stream",
     "text": [
      "10\n"
     ]
    }
   ],
   "source": [
    "x = 10\n",
    "print(x)"
   ]
  },
  {
   "cell_type": "code",
   "execution_count": 20,
   "id": "f55b6ca5",
   "metadata": {},
   "outputs": [
    {
     "name": "stdout",
     "output_type": "stream",
     "text": [
      "100\n"
     ]
    }
   ],
   "source": [
    "x = 100\n",
    "print(x)"
   ]
  },
  {
   "cell_type": "code",
   "execution_count": 21,
   "id": "8eada56f",
   "metadata": {},
   "outputs": [
    {
     "data": {
      "text/plain": [
       "314.0"
      ]
     },
     "execution_count": 21,
     "metadata": {},
     "output_type": "execute_result"
    }
   ],
   "source": [
    "y = 3.14\n",
    "x * y"
   ]
  },
  {
   "cell_type": "code",
   "execution_count": 22,
   "id": "7d6fd4a2",
   "metadata": {},
   "outputs": [
    {
     "data": {
      "text/plain": [
       "float"
      ]
     },
     "execution_count": 22,
     "metadata": {},
     "output_type": "execute_result"
    }
   ],
   "source": [
    "type(x * y)"
   ]
  },
  {
   "cell_type": "markdown",
   "id": "d8bc9b9e",
   "metadata": {},
   "source": [
    "파이썬은 동적 언어(변수의 자료형을 상황에 맞게 자동으로 결정)   \n",
    "파이썬이 스스로 판단하고 자동 형 변환 가능  "
   ]
  },
  {
   "cell_type": "markdown",
   "id": "cee19739",
   "metadata": {},
   "source": [
    "### 1.3.4 리스트"
   ]
  },
  {
   "cell_type": "code",
   "execution_count": 23,
   "id": "df6cf552",
   "metadata": {},
   "outputs": [
    {
     "name": "stdout",
     "output_type": "stream",
     "text": [
      "[1, 2, 3, 4, 5]\n"
     ]
    }
   ],
   "source": [
    "a = [1, 2, 3, 4, 5] # 리스트 생성\n",
    "print(a) # 리스트의 내용 출력"
   ]
  },
  {
   "cell_type": "code",
   "execution_count": 27,
   "id": "c84ac9d5",
   "metadata": {},
   "outputs": [
    {
     "data": {
      "text/plain": [
       "5"
      ]
     },
     "execution_count": 27,
     "metadata": {},
     "output_type": "execute_result"
    }
   ],
   "source": [
    "len(a) # 리스트의 길이 출력"
   ]
  },
  {
   "cell_type": "code",
   "execution_count": 28,
   "id": "d122c1a7",
   "metadata": {},
   "outputs": [
    {
     "data": {
      "text/plain": [
       "1"
      ]
     },
     "execution_count": 28,
     "metadata": {},
     "output_type": "execute_result"
    }
   ],
   "source": [
    "a[0] # 첫 원소에 접근"
   ]
  },
  {
   "cell_type": "code",
   "execution_count": 29,
   "id": "4e075c8e",
   "metadata": {},
   "outputs": [
    {
     "data": {
      "text/plain": [
       "5"
      ]
     },
     "execution_count": 29,
     "metadata": {},
     "output_type": "execute_result"
    }
   ],
   "source": [
    "a[4] # 다섯 번째 원소에 접근"
   ]
  },
  {
   "cell_type": "code",
   "execution_count": 31,
   "id": "3f18a572",
   "metadata": {},
   "outputs": [
    {
     "name": "stdout",
     "output_type": "stream",
     "text": [
      "[1, 2, 3, 4, 99]\n"
     ]
    }
   ],
   "source": [
    "a[4] = 99 # 값 대입\n",
    "print(a)"
   ]
  },
  {
   "cell_type": "markdown",
   "id": "5e486ca3",
   "metadata": {},
   "source": [
    "[] 안의 수를 인덱스라 하며 0부터 시작함  \n",
    "슬라이싱(Slicing): 원하는 부분 리스트를 얻을 수 있음  "
   ]
  },
  {
   "cell_type": "code",
   "execution_count": 32,
   "id": "c68366dd",
   "metadata": {},
   "outputs": [
    {
     "data": {
      "text/plain": [
       "[1, 2]"
      ]
     },
     "execution_count": 32,
     "metadata": {},
     "output_type": "execute_result"
    }
   ],
   "source": [
    "a[0:2] # 인덱스 0부터 2까지 얻기(2번재는 포함하지 않는다!)"
   ]
  },
  {
   "cell_type": "code",
   "execution_count": 33,
   "id": "4e9580eb",
   "metadata": {},
   "outputs": [
    {
     "data": {
      "text/plain": [
       "[2, 3, 4, 99]"
      ]
     },
     "execution_count": 33,
     "metadata": {},
     "output_type": "execute_result"
    }
   ],
   "source": [
    "a[1:] # 인덱스 1부터 끝까지 얻기"
   ]
  },
  {
   "cell_type": "code",
   "execution_count": 34,
   "id": "f80ecd61",
   "metadata": {},
   "outputs": [
    {
     "data": {
      "text/plain": [
       "[1, 2, 3]"
      ]
     },
     "execution_count": 34,
     "metadata": {},
     "output_type": "execute_result"
    }
   ],
   "source": [
    "a[:3] # 처음부터 인덱스 3까지 얻기(3번째는 포함하지 않는다!)"
   ]
  },
  {
   "cell_type": "code",
   "execution_count": 35,
   "id": "2d5ead0c",
   "metadata": {},
   "outputs": [
    {
     "data": {
      "text/plain": [
       "[1, 2, 3, 4]"
      ]
     },
     "execution_count": 35,
     "metadata": {},
     "output_type": "execute_result"
    }
   ],
   "source": [
    "a[:-1] # 처음부터 마지막 원소의 1개 앞까지 얻기"
   ]
  },
  {
   "cell_type": "code",
   "execution_count": 36,
   "id": "dc3942a1",
   "metadata": {},
   "outputs": [
    {
     "data": {
      "text/plain": [
       "[1, 2, 3]"
      ]
     },
     "execution_count": 36,
     "metadata": {},
     "output_type": "execute_result"
    }
   ],
   "source": [
    "a[:-2] # 처음부터 마지막 원소의 2개 앞까지 얻기"
   ]
  },
  {
   "cell_type": "markdown",
   "id": "c1060ca2",
   "metadata": {},
   "source": [
    "[a:b]라는 인덱스가 있다면, a번째부터 b 전까지를 뜻한다"
   ]
  },
  {
   "cell_type": "markdown",
   "id": "1d1aba67",
   "metadata": {},
   "source": [
    "### 1.3.5 딕셔너리"
   ]
  },
  {
   "cell_type": "markdown",
   "id": "f834a242",
   "metadata": {},
   "source": [
    "key-value 한 쌍으로 저장"
   ]
  },
  {
   "cell_type": "code",
   "execution_count": 38,
   "id": "16bc56a4",
   "metadata": {},
   "outputs": [
    {
     "data": {
      "text/plain": [
       "180"
      ]
     },
     "execution_count": 38,
     "metadata": {},
     "output_type": "execute_result"
    }
   ],
   "source": [
    "me = {'height':180} # 딕셔너리 생성\n",
    "me['height']        # 원소에 접근"
   ]
  },
  {
   "cell_type": "code",
   "execution_count": 39,
   "id": "9d76c0a3",
   "metadata": {},
   "outputs": [
    {
     "name": "stdout",
     "output_type": "stream",
     "text": [
      "{'height': 180, 'weight': 70}\n"
     ]
    }
   ],
   "source": [
    "me['weight'] = 70   # 새 원소 추가\n",
    "print(me)"
   ]
  },
  {
   "cell_type": "markdown",
   "id": "68e6e59c",
   "metadata": {},
   "source": [
    "### 1.3.6 bool"
   ]
  },
  {
   "cell_type": "markdown",
   "id": "40eddb9c",
   "metadata": {},
   "source": [
    "불리언 자료형  \n",
    "True False  \n",
    "and, or, not 연산자 사용 가능  \n",
    "수치용: +,-,* 사용 가능"
   ]
  },
  {
   "cell_type": "code",
   "execution_count": 40,
   "id": "9071a9f3",
   "metadata": {},
   "outputs": [
    {
     "data": {
      "text/plain": [
       "bool"
      ]
     },
     "execution_count": 40,
     "metadata": {},
     "output_type": "execute_result"
    }
   ],
   "source": [
    "hungry = True  # 배가 고프다.\n",
    "sleepy = False # 졸리지 않다.\n",
    "type(hungry)"
   ]
  },
  {
   "cell_type": "code",
   "execution_count": 41,
   "id": "1c35ae9d",
   "metadata": {},
   "outputs": [
    {
     "data": {
      "text/plain": [
       "False"
      ]
     },
     "execution_count": 41,
     "metadata": {},
     "output_type": "execute_result"
    }
   ],
   "source": [
    "not hungry"
   ]
  },
  {
   "cell_type": "code",
   "execution_count": 42,
   "id": "2c77448f",
   "metadata": {},
   "outputs": [
    {
     "data": {
      "text/plain": [
       "False"
      ]
     },
     "execution_count": 42,
     "metadata": {},
     "output_type": "execute_result"
    }
   ],
   "source": [
    "hungry and sleepy # 배가 고프다 그리고 졸리지 않다."
   ]
  },
  {
   "cell_type": "code",
   "execution_count": 43,
   "id": "6137636b",
   "metadata": {},
   "outputs": [
    {
     "data": {
      "text/plain": [
       "True"
      ]
     },
     "execution_count": 43,
     "metadata": {},
     "output_type": "execute_result"
    }
   ],
   "source": [
    "hungry or sleepy  # 배가 고프다 또는 졸리지 않다."
   ]
  },
  {
   "cell_type": "markdown",
   "id": "190b9a3a",
   "metadata": {},
   "source": [
    "### 1.3.7 if 문"
   ]
  },
  {
   "cell_type": "code",
   "execution_count": 44,
   "id": "bc1d2353",
   "metadata": {},
   "outputs": [
    {
     "name": "stdout",
     "output_type": "stream",
     "text": [
      "I'm hungry\n"
     ]
    }
   ],
   "source": [
    "hungry = True\n",
    "if hungry:\n",
    "    print(\"I'm hungry\")"
   ]
  },
  {
   "cell_type": "code",
   "execution_count": 45,
   "id": "08b6db27",
   "metadata": {},
   "outputs": [
    {
     "name": "stdout",
     "output_type": "stream",
     "text": [
      "I'm not hungry\n",
      "I'm sleepy\n"
     ]
    }
   ],
   "source": [
    "hungry = False\n",
    "if hungry:\n",
    "    print(\"I'm hungry\") # 들여쓰기는 공백 문자로\n",
    "else:\n",
    "    print(\"I'm not hungry\")\n",
    "    print(\"I'm sleepy\")"
   ]
  },
  {
   "cell_type": "markdown",
   "id": "8333ff93",
   "metadata": {},
   "source": [
    "공백 문자 4개 혹은 탭을 써야 한다."
   ]
  },
  {
   "cell_type": "markdown",
   "id": "6b5d9d9c",
   "metadata": {},
   "source": [
    "### 1.3.8 for 문"
   ]
  },
  {
   "cell_type": "code",
   "execution_count": 46,
   "id": "26737eb8",
   "metadata": {},
   "outputs": [
    {
     "name": "stdout",
     "output_type": "stream",
     "text": [
      "1\n",
      "2\n",
      "3\n"
     ]
    }
   ],
   "source": [
    "for i in [1,2,3]: # 각 요소에 차례로 접근\n",
    "    print(i)"
   ]
  },
  {
   "cell_type": "markdown",
   "id": "d1fbc6c7",
   "metadata": {},
   "source": [
    "### 1.3.8 함수"
   ]
  },
  {
   "cell_type": "markdown",
   "id": "cf4e4b96",
   "metadata": {},
   "source": [
    "특정 기능을 수행하는 일련의 명령들을 묶음"
   ]
  },
  {
   "cell_type": "code",
   "execution_count": 48,
   "id": "a957c7ff",
   "metadata": {},
   "outputs": [
    {
     "name": "stdout",
     "output_type": "stream",
     "text": [
      "Hello World!\n"
     ]
    }
   ],
   "source": [
    "def hello():\n",
    "    print(\"Hello World!\")\n",
    "hello()"
   ]
  },
  {
   "cell_type": "markdown",
   "id": "70a32e06",
   "metadata": {},
   "source": [
    "함수는 인수를 취할 수 있고, 연산자를 사용하여 문자열을 이어 붙일 수 있음"
   ]
  },
  {
   "cell_type": "code",
   "execution_count": 49,
   "id": "06d91275",
   "metadata": {},
   "outputs": [
    {
     "name": "stdout",
     "output_type": "stream",
     "text": [
      "Hello cat!\n"
     ]
    }
   ],
   "source": [
    "def hello(object):\n",
    "    print(\"Hello \" + object + \"!\")\n",
    "hello(\"cat\")"
   ]
  },
  {
   "cell_type": "markdown",
   "id": "86eb9ec4",
   "metadata": {},
   "source": [
    "## 1.4 파이썬 스크립트 파일"
   ]
  },
  {
   "cell_type": "markdown",
   "id": "ef1457ef",
   "metadata": {},
   "source": [
    "## 1.4.1 파일로 저장하기"
   ]
  },
  {
   "cell_type": "markdown",
   "id": "5141678c",
   "metadata": {},
   "source": [
    "확장자명 *.py*로 저장  \n",
    "터미널에서 *cd 폴더명*으로 디렉토리로 이동  \n",
    "$ python __.py로 python 명령 실행"
   ]
  },
  {
   "cell_type": "markdown",
   "id": "4106246f",
   "metadata": {},
   "source": [
    "### 1.4.2 클래스"
   ]
  },
  {
   "cell_type": "markdown",
   "id": "1d78b91f",
   "metadata": {},
   "source": [
    "직접 클래스 정의해서 독자적인 자료형을 만들 수 있음  \n",
    "해당 클래스 만의 전용 함수와 속성을 정의할 수 있음"
   ]
  },
  {
   "cell_type": "code",
   "execution_count": null,
   "id": "3f351373",
   "metadata": {},
   "outputs": [],
   "source": [
    "class 클래스 이름:\n",
    "    def __init__(self, 인수, ...): # 생성자\n",
    "        ...\n",
    "    def 메서드 이름 1(self, 인수, ...): # 메서드 1\n",
    "        ...\n",
    "    def 메서드 이름 2(self, 인수, ...): # 메서드 2\n",
    "        ..."
   ]
  },
  {
   "cell_type": "markdown",
   "id": "a4595d07",
   "metadata": {},
   "source": [
    "__ init __ : 생성자(constructor)  \n",
    "클래스를 초기화하는 방법을 정의함  \n",
    "인스턴스가 만들어질 때 한 번만 불림\n",
    "\n",
    "self : 자신(자신의 인스턴스)을 나타냄  \n",
    "파이썬에서는 메서드의 첫 번째 인수로 self를 명시적으로 사용  "
   ]
  },
  {
   "cell_type": "code",
   "execution_count": 50,
   "id": "c26c4017",
   "metadata": {},
   "outputs": [
    {
     "name": "stdout",
     "output_type": "stream",
     "text": [
      "Initialized!\n",
      "Hello David!\n",
      "Good-bye David!\n"
     ]
    }
   ],
   "source": [
    "class Man:\n",
    "    def __init__(self, name):\n",
    "        self.name = name\n",
    "        print(\"Initialized!\")\n",
    "        \n",
    "    def hello(self):\n",
    "        print(\"Hello \" + self.name + \"!\")\n",
    "    \n",
    "    def goodbye(self):\n",
    "        print(\"Good-bye \" + self.name + \"!\")\n",
    "        \n",
    "m = Man(\"David\")\n",
    "m.hello()\n",
    "m.goodbye()"
   ]
  },
  {
   "cell_type": "markdown",
   "id": "0096b684",
   "metadata": {},
   "source": [
    "## 1.5 넘파이"
   ]
  },
  {
   "cell_type": "markdown",
   "id": "910f902e",
   "metadata": {},
   "source": [
    "### 1.5.1 넘파이 가져오기"
   ]
  },
  {
   "cell_type": "code",
   "execution_count": 55,
   "id": "93d62c0e",
   "metadata": {},
   "outputs": [],
   "source": [
    "import numpy as np"
   ]
  },
  {
   "cell_type": "markdown",
   "id": "29e60508",
   "metadata": {},
   "source": [
    "### 1.5.2 넘파이 배열 생성하기"
   ]
  },
  {
   "cell_type": "code",
   "execution_count": 57,
   "id": "25ae8652",
   "metadata": {},
   "outputs": [
    {
     "name": "stdout",
     "output_type": "stream",
     "text": [
      "[1. 2. 3.]\n"
     ]
    }
   ],
   "source": [
    "x = np.array([1.0, 2.0, 3.0])\n",
    "print(x)"
   ]
  },
  {
   "cell_type": "code",
   "execution_count": 58,
   "id": "0b692e0b",
   "metadata": {},
   "outputs": [
    {
     "data": {
      "text/plain": [
       "numpy.ndarray"
      ]
     },
     "execution_count": 58,
     "metadata": {},
     "output_type": "execute_result"
    }
   ],
   "source": [
    "type(x)"
   ]
  },
  {
   "cell_type": "markdown",
   "id": "f064b583",
   "metadata": {},
   "source": [
    "### 1.5.3 넘파이의 산술 연산"
   ]
  },
  {
   "cell_type": "code",
   "execution_count": 60,
   "id": "66789b9d",
   "metadata": {},
   "outputs": [
    {
     "data": {
      "text/plain": [
       "array([3., 6., 9.])"
      ]
     },
     "execution_count": 60,
     "metadata": {},
     "output_type": "execute_result"
    }
   ],
   "source": [
    "x = np.array([1.0, 2.0, 3.0])\n",
    "y = np.array([2.0, 4.0, 6.0])\n",
    "x + y # 원소별 덧셈"
   ]
  },
  {
   "cell_type": "code",
   "execution_count": 61,
   "id": "1c40a79e",
   "metadata": {},
   "outputs": [
    {
     "data": {
      "text/plain": [
       "array([-1., -2., -3.])"
      ]
     },
     "execution_count": 61,
     "metadata": {},
     "output_type": "execute_result"
    }
   ],
   "source": [
    "x - y"
   ]
  },
  {
   "cell_type": "code",
   "execution_count": 62,
   "id": "64df3eab",
   "metadata": {},
   "outputs": [
    {
     "data": {
      "text/plain": [
       "array([ 2.,  8., 18.])"
      ]
     },
     "execution_count": 62,
     "metadata": {},
     "output_type": "execute_result"
    }
   ],
   "source": [
    "x * y # 원소별 곱셈"
   ]
  },
  {
   "cell_type": "code",
   "execution_count": 63,
   "id": "a8ad8bed",
   "metadata": {},
   "outputs": [
    {
     "data": {
      "text/plain": [
       "array([0.5, 0.5, 0.5])"
      ]
     },
     "execution_count": 63,
     "metadata": {},
     "output_type": "execute_result"
    }
   ],
   "source": [
    "x / y"
   ]
  },
  {
   "cell_type": "markdown",
   "id": "5272d1fd",
   "metadata": {},
   "source": [
    "원소 수가 같을 때 산술 연산이 가능함  \n",
    "스칼라값과의 연산인 **브로드캐스트**"
   ]
  },
  {
   "cell_type": "code",
   "execution_count": 64,
   "id": "95baf14f",
   "metadata": {},
   "outputs": [
    {
     "data": {
      "text/plain": [
       "array([0.5, 1. , 1.5])"
      ]
     },
     "execution_count": 64,
     "metadata": {},
     "output_type": "execute_result"
    }
   ],
   "source": [
    "x = np.array([1.0, 2.0, 3.0])\n",
    "x / 2.0"
   ]
  },
  {
   "cell_type": "markdown",
   "id": "6c751f13",
   "metadata": {},
   "source": [
    "### 1.5.4 넘파이의 N차원 배열"
   ]
  },
  {
   "cell_type": "code",
   "execution_count": 65,
   "id": "54017e15",
   "metadata": {},
   "outputs": [
    {
     "name": "stdout",
     "output_type": "stream",
     "text": [
      "[[1 2]\n",
      " [3 4]]\n"
     ]
    }
   ],
   "source": [
    "A = np.array([[1, 2], [3, 4]])\n",
    "print(A)"
   ]
  },
  {
   "cell_type": "code",
   "execution_count": 66,
   "id": "e1c73084",
   "metadata": {},
   "outputs": [
    {
     "data": {
      "text/plain": [
       "(2, 2)"
      ]
     },
     "execution_count": 66,
     "metadata": {},
     "output_type": "execute_result"
    }
   ],
   "source": [
    "A.shape"
   ]
  },
  {
   "cell_type": "code",
   "execution_count": 67,
   "id": "75342a4d",
   "metadata": {},
   "outputs": [
    {
     "data": {
      "text/plain": [
       "dtype('int64')"
      ]
     },
     "execution_count": 67,
     "metadata": {},
     "output_type": "execute_result"
    }
   ],
   "source": [
    "A.dtype"
   ]
  },
  {
   "cell_type": "markdown",
   "id": "5d49f7dd",
   "metadata": {},
   "source": [
    "행렬의 산술 연산"
   ]
  },
  {
   "cell_type": "code",
   "execution_count": 68,
   "id": "3d2edda0",
   "metadata": {},
   "outputs": [
    {
     "data": {
      "text/plain": [
       "array([[ 4,  2],\n",
       "       [ 3, 10]])"
      ]
     },
     "execution_count": 68,
     "metadata": {},
     "output_type": "execute_result"
    }
   ],
   "source": [
    "B = np.array([[3, 0], [0, 6]])\n",
    "A + B"
   ]
  },
  {
   "cell_type": "code",
   "execution_count": 69,
   "id": "6eeeb3c0",
   "metadata": {},
   "outputs": [
    {
     "data": {
      "text/plain": [
       "array([[ 3,  0],\n",
       "       [ 0, 24]])"
      ]
     },
     "execution_count": 69,
     "metadata": {},
     "output_type": "execute_result"
    }
   ],
   "source": [
    "A * B"
   ]
  },
  {
   "cell_type": "code",
   "execution_count": 70,
   "id": "beccca11",
   "metadata": {},
   "outputs": [
    {
     "data": {
      "text/plain": [
       "array([[10, 20],\n",
       "       [30, 40]])"
      ]
     },
     "execution_count": 70,
     "metadata": {},
     "output_type": "execute_result"
    }
   ],
   "source": [
    "A * 10"
   ]
  },
  {
   "cell_type": "markdown",
   "id": "be30cdef",
   "metadata": {},
   "source": [
    "수학에서 1차원 배열은 벡터(vector), 2차원 배열은 행렬(matrix), 백터와 행렬을 일반화한 것을 텐서(tensor)라고 함  "
   ]
  },
  {
   "cell_type": "markdown",
   "id": "71776f1c",
   "metadata": {},
   "source": [
    "### 1.5.5 브로드캐스트"
   ]
  },
  {
   "cell_type": "code",
   "execution_count": 71,
   "id": "39d48134",
   "metadata": {},
   "outputs": [
    {
     "data": {
      "text/html": [
       "\n",
       "    <div style=\"float: left; \">\n",
       "        <table><tr><td>1</td><td>2</td></tr><td>3</td><td>4</td></tr></table>\n",
       "    </div>\n",
       "    <div style=\"float: left;\"> * </div>\n",
       "    <div style=\"float: left;\"> <table><tr><td>10</td></tr></table> </div>\n",
       "    <div style=\"float: left;\"> = </div>\n",
       "    <div style=\"float: left;\">\n",
       "        <table><tr><td>1</td><td>2</td></tr><td>3</td><td>4</td></tr></table>\n",
       "    </div>\n",
       "    <div style=\"float: left;\"> * </div>\n",
       "    <div style=\"float: left;\">\n",
       "        <table><tr><td>10</td><td><font color=\"gray\">10</font></td></tr><td><font color=\"gray\">10</font></td><td><font color=\"gray\">10</font></td></tr></table>\n",
       "    </div>\n",
       "    <div style=\"float: left;\"> = </div>\n",
       "    <div>\n",
       "            <table><tr><td>10</td><td>20</td></tr><td>30</td><td>40</td></tr></table>    </div>\n",
       "    "
      ],
      "text/plain": [
       "<IPython.core.display.HTML object>"
      ]
     },
     "metadata": {},
     "output_type": "display_data"
    }
   ],
   "source": [
    "from IPython.display import display, HTML\n",
    "broadcast = HTML(\"\"\"\n",
    "    <div style=\"float: left; \">\n",
    "        <table><tr><td>1</td><td>2</td></tr><td>3</td><td>4</td></tr></table>\n",
    "    </div>\n",
    "    <div style=\"float: left;\"> * </div>\n",
    "    <div style=\"float: left;\"> <table><tr><td>10</td></tr></table> </div>\n",
    "    <div style=\"float: left;\"> = </div>\n",
    "    <div style=\"float: left;\">\n",
    "        <table><tr><td>1</td><td>2</td></tr><td>3</td><td>4</td></tr></table>\n",
    "    </div>\n",
    "    <div style=\"float: left;\"> * </div>\n",
    "    <div style=\"float: left;\">\n",
    "        <table><tr><td>10</td><td><font color=\"gray\">10</font></td></tr><td><font color=\"gray\">10</font></td><td><font color=\"gray\">10</font></td></tr></table>\n",
    "    </div>\n",
    "    <div style=\"float: left;\"> = </div>\n",
    "    <div>\n",
    "            <table><tr><td>10</td><td>20</td></tr><td>30</td><td>40</td></tr></table>\\\n",
    "    </div>\n",
    "    \"\"\"\n",
    ")\n",
    "# 브로드캐스트 예시\n",
    "display(broadcast)"
   ]
  },
  {
   "cell_type": "code",
   "execution_count": 72,
   "id": "b9de8d5d",
   "metadata": {},
   "outputs": [
    {
     "data": {
      "text/plain": [
       "array([[10, 40],\n",
       "       [30, 80]])"
      ]
     },
     "execution_count": 72,
     "metadata": {},
     "output_type": "execute_result"
    }
   ],
   "source": [
    "A = np.array([[1, 2], [3, 4]])\n",
    "B = np.array([10, 20])\n",
    "A * B"
   ]
  },
  {
   "cell_type": "code",
   "execution_count": 73,
   "id": "b38eb6fb",
   "metadata": {},
   "outputs": [
    {
     "data": {
      "text/html": [
       "\n",
       "    <div style=\"float: left; \">\n",
       "        <table><tr><td>1</td><td>2</td></tr><td>3</td><td>4</td></tr></table>\n",
       "    </div>\n",
       "    <div style=\"float: left;\"> * </div>\n",
       "    <div style=\"float: left;\"> <table><tr><td>10</td><td>20</td></tr></table> </div>\n",
       "    <div style=\"float: left;\"> = </div>\n",
       "    <div style=\"float: left;\">\n",
       "        <table><tr><td>1</td><td>2</td></tr><td>3</td><td>4</td></tr></table>\n",
       "    </div>\n",
       "    <div style=\"float: left;\"> * </div>\n",
       "    <div style=\"float: left;\">\n",
       "        <table><tr><td>10</td><td>20</font></td></tr><td><font color=\"gray\">10</font></td><td><font color=\"gray\">20</font></td></tr></table>\n",
       "    </div>\n",
       "    <div style=\"float: left;\"> = </div>\n",
       "    <div>\n",
       "            <table><tr><td>10</td><td>40</td></tr><td>30</td><td>80</td></tr></table>    </div>\n",
       "    "
      ],
      "text/plain": [
       "<IPython.core.display.HTML object>"
      ]
     },
     "metadata": {},
     "output_type": "display_data"
    }
   ],
   "source": [
    "broadcast = HTML(\"\"\"\n",
    "    <div style=\"float: left; \">\n",
    "        <table><tr><td>1</td><td>2</td></tr><td>3</td><td>4</td></tr></table>\n",
    "    </div>\n",
    "    <div style=\"float: left;\"> * </div>\n",
    "    <div style=\"float: left;\"> <table><tr><td>10</td><td>20</td></tr></table> </div>\n",
    "    <div style=\"float: left;\"> = </div>\n",
    "    <div style=\"float: left;\">\n",
    "        <table><tr><td>1</td><td>2</td></tr><td>3</td><td>4</td></tr></table>\n",
    "    </div>\n",
    "    <div style=\"float: left;\"> * </div>\n",
    "    <div style=\"float: left;\">\n",
    "        <table><tr><td>10</td><td>20</font></td></tr><td><font color=\"gray\">10</font></td><td><font color=\"gray\">20</font></td></tr></table>\n",
    "    </div>\n",
    "    <div style=\"float: left;\"> = </div>\n",
    "    <div>\n",
    "            <table><tr><td>10</td><td>40</td></tr><td>30</td><td>80</td></tr></table>\\\n",
    "    </div>\n",
    "    \"\"\"\n",
    ")\n",
    "# 브로드캐스트 예시2\n",
    "display(broadcast)"
   ]
  },
  {
   "cell_type": "markdown",
   "id": "a2641926",
   "metadata": {},
   "source": [
    "### 1.5.6 원소 접근"
   ]
  },
  {
   "cell_type": "code",
   "execution_count": 74,
   "id": "4b6c06df",
   "metadata": {},
   "outputs": [
    {
     "name": "stdout",
     "output_type": "stream",
     "text": [
      "[[51 55]\n",
      " [14 19]\n",
      " [ 0  4]]\n"
     ]
    }
   ],
   "source": [
    "X = np.array([[51, 55], [14, 19], [0, 4]])\n",
    "print(X)"
   ]
  },
  {
   "cell_type": "code",
   "execution_count": 75,
   "id": "d9f7184f",
   "metadata": {},
   "outputs": [
    {
     "data": {
      "text/plain": [
       "array([51, 55])"
      ]
     },
     "execution_count": 75,
     "metadata": {},
     "output_type": "execute_result"
    }
   ],
   "source": [
    "X[0]"
   ]
  },
  {
   "cell_type": "code",
   "execution_count": 76,
   "id": "4753d346",
   "metadata": {},
   "outputs": [
    {
     "data": {
      "text/plain": [
       "55"
      ]
     },
     "execution_count": 76,
     "metadata": {},
     "output_type": "execute_result"
    }
   ],
   "source": [
    "X[0][1]"
   ]
  },
  {
   "cell_type": "code",
   "execution_count": 77,
   "id": "bda04860",
   "metadata": {},
   "outputs": [
    {
     "name": "stdout",
     "output_type": "stream",
     "text": [
      "[51 55]\n",
      "[14 19]\n",
      "[0 4]\n"
     ]
    }
   ],
   "source": [
    "for row in X:\n",
    "    print(row)"
   ]
  },
  {
   "cell_type": "code",
   "execution_count": 78,
   "id": "7c94782a",
   "metadata": {},
   "outputs": [
    {
     "name": "stdout",
     "output_type": "stream",
     "text": [
      "[51 55 14 19  0  4]\n"
     ]
    }
   ],
   "source": [
    "X = X.flatten() # X를 1차원 배열로 변환(평탄화)\n",
    "print(X)"
   ]
  },
  {
   "cell_type": "code",
   "execution_count": 79,
   "id": "ecc9efb6",
   "metadata": {},
   "outputs": [
    {
     "data": {
      "text/plain": [
       "array([51, 14,  0])"
      ]
     },
     "execution_count": 79,
     "metadata": {},
     "output_type": "execute_result"
    }
   ],
   "source": [
    "X[np.array([0,2,4])] # 인덱스가 0, 2, 4인 원소 얻기"
   ]
  },
  {
   "cell_type": "code",
   "execution_count": 80,
   "id": "b75a17a8",
   "metadata": {},
   "outputs": [
    {
     "data": {
      "text/plain": [
       "array([ True,  True, False,  True, False, False])"
      ]
     },
     "execution_count": 80,
     "metadata": {},
     "output_type": "execute_result"
    }
   ],
   "source": [
    "X > 15"
   ]
  },
  {
   "cell_type": "code",
   "execution_count": 81,
   "id": "128a01cc",
   "metadata": {},
   "outputs": [
    {
     "data": {
      "text/plain": [
       "array([51, 55, 19])"
      ]
     },
     "execution_count": 81,
     "metadata": {},
     "output_type": "execute_result"
    }
   ],
   "source": [
    "X[X > 15]"
   ]
  },
  {
   "cell_type": "markdown",
   "id": "3cdd25da",
   "metadata": {},
   "source": [
    "X > 15 의 결과는 bool 배열  \n",
    "bool 배열을 사용해 배열 X에서 True에 해당하는 원소, 15보다 큰 원소만 꺼냄"
   ]
  },
  {
   "cell_type": "markdown",
   "id": "1acd3852",
   "metadata": {},
   "source": [
    "## 1.6 matplotplib"
   ]
  },
  {
   "cell_type": "markdown",
   "id": "7878150e",
   "metadata": {},
   "source": [
    "그래프 그리기, 데이터 시각화 라이브러리"
   ]
  },
  {
   "cell_type": "markdown",
   "id": "3f244d12",
   "metadata": {},
   "source": [
    "### 1.6.1 단순한 그래프 그리기"
   ]
  },
  {
   "cell_type": "code",
   "execution_count": 84,
   "id": "a45e77ba",
   "metadata": {},
   "outputs": [
    {
     "data": {
      "image/png": "[encoded data removed]",
      "text/plain": [
       "<Figure size 432x288 with 1 Axes>"
      ]
     },
     "metadata": {
      "needs_background": "light"
     },
     "output_type": "display_data"
    }
   ],
   "source": [
    "import numpy as np\n",
    "import matplotlib.pyplot as plt\n",
    "\n",
    "# 데이터 준비\n",
    "x = np.arange(0, 6, 0.1) # 0에서 6까지 0.1 간격으로 생성\n",
    "y = np.sin(x)\n",
    "\n",
    "# 그래프 그리기\n",
    "plt.plot(x, y)\n",
    "plt.show()"
   ]
  },
  {
   "cell_type": "markdown",
   "id": "65d21ce4",
   "metadata": {},
   "source": [
    "### 1.6.2 pyplot의 기능"
   ]
  },
  {
   "cell_type": "code",
   "execution_count": 85,
   "id": "6e40892d",
   "metadata": {},
   "outputs": [
    {
     "data": {
      "image/png": "[encoded data removed]",
      "text/plain": [
       "<Figure size 432x288 with 1 Axes>"
      ]
     },
     "metadata": {
      "needs_background": "light"
     },
     "output_type": "display_data"
    }
   ],
   "source": [
    "import numpy as np\n",
    "import matplotlib.pyplot as plt\n",
    "\n",
    "# 데이터 준비\n",
    "x = np.arange(0, 6, 0.1) # 0에서 6까지 0.1 간격으로 생성\n",
    "y1 = np.sin(x)\n",
    "y2 = np.cos(x)\n",
    "\n",
    "# 그래프 그리기\n",
    "plt.plot(x, y1, label=\"sin\")\n",
    "plt.plot(x, y2, linestyle = \"--\", label=\"cos\") # cos 함수는 점선으로 그리기\n",
    "plt.xlabel(\"x\")        # x축 이름\n",
    "plt.ylabel(\"y\")        # y축 이름\n",
    "plt.title('sin & cos') # 제목\n",
    "plt.legend()\n",
    "plt.show()"
   ]
  },
  {
   "cell_type": "markdown",
   "id": "b4869e61",
   "metadata": {},
   "source": [
    "### 1.6.3 이미지 표시하기"
   ]
  },
  {
   "cell_type": "code",
   "execution_count": 93,
   "id": "2dd0d372",
   "metadata": {},
   "outputs": [
    {
     "data": {
      "image/png": "[encoded data removed]",
      "text/plain": [
       "<Figure size 432x288 with 1 Axes>"
      ]
     },
     "metadata": {
      "needs_background": "light"
     },
     "output_type": "display_data"
    }
   ],
   "source": [
    "import matplotlib.pyplot as plt\n",
    "from matplotlib.image import imread\n",
    "\n",
    "img = imread('the-red-or-white-cat-i-on-white-studio_155003-13189.webp') # 이미지 읽어오기(적절한 경로를 설정하세요!)\n",
    "\n",
    "plt.imshow(img)\n",
    "plt.show()"
   ]
  },
  {
   "cell_type": "markdown",
   "id": "22cffac6",
   "metadata": {},
   "source": [
    "## 1.7 정리"
   ]
  },
  {
   "cell_type": "markdown",
   "id": "52b598a2",
   "metadata": {},
   "source": [
    "### 이번 장에서 배운 내용"
   ]
  },
  {
   "cell_type": "markdown",
   "id": "3c25243f",
   "metadata": {},
   "source": [
    "- 파이썬은 간단하고 익히기 쉬운 프로그래밍 언어다.\n",
    "- 파이썬은 오픈 소스여서 자유롭게 사용할 수 있다.\n",
    "- 이 책은 딥러닝 구현에 파이썬 3 버전을 이용한다.\n",
    "- 외부 라이브러리로는 넘파이와 matplotlib을 이용한다.\n",
    "- 파이썬을 실행하는 방식에는 ‘인터프리터’와 ‘스크립트 파일’ 두 가지가 있다.\n",
    "- 파이썬에서는 함수와 클래스 같은 모듈로 구현을 정리할 수 있다.\n",
    "- 넘파이는 다차원 배열을 다루는 편리한 메서드를 많이 제공한다."
   ]
  }
 ],
 "metadata": {
  "kernelspec": {
   "display_name": "Python 3 (ipykernel)",
   "language": "python",
   "name": "python3"
  },
  "language_info": {
   "codemirror_mode": {
    "name": "ipython",
    "version": 3
   },
   "file_extension": ".py",
   "mimetype": "text/x-python",
   "name": "python",
   "nbconvert_exporter": "python",
   "pygments_lexer": "ipython3",
   "version": "3.9.7"
  }
 },
 "nbformat": 4,
 "nbformat_minor": 5
}
