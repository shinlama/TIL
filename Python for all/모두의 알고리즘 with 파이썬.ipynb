{
 "cells": [
  {
   "cell_type": "markdown",
   "id": "a0ec2f94",
   "metadata": {},
   "source": [
    "## 1. 알고리즘 기초"
   ]
  },
  {
   "cell_type": "code",
   "execution_count": 2,
   "id": "a2b38520",
   "metadata": {},
   "outputs": [],
   "source": [
    "# 1부터 n까지 합 구하기\n",
    "\n",
    "def summ(n):\n",
    "    s = 0\n",
    "    for i in range(1, n+1):\n",
    "        s += i\n",
    "    return s"
   ]
  },
  {
   "cell_type": "code",
   "execution_count": 3,
   "id": "05899295",
   "metadata": {},
   "outputs": [
    {
     "data": {
      "text/plain": [
       "55"
      ]
     },
     "execution_count": 3,
     "metadata": {},
     "output_type": "execute_result"
    }
   ],
   "source": [
    "summ(10)"
   ]
  },
  {
   "cell_type": "code",
   "execution_count": 4,
   "id": "b1cabfb3",
   "metadata": {},
   "outputs": [
    {
     "data": {
      "text/plain": [
       "55.0"
      ]
     },
     "execution_count": 4,
     "metadata": {},
     "output_type": "execute_result"
    }
   ],
   "source": [
    "def sum_m(n):\n",
    "    return (1+n)*n/2\n",
    "\n",
    "sum_m(10)"
   ]
  },
  {
   "cell_type": "code",
   "execution_count": 14,
   "id": "1c6196d5",
   "metadata": {},
   "outputs": [
    {
     "data": {
      "text/plain": [
       "10"
      ]
     },
     "execution_count": 14,
     "metadata": {},
     "output_type": "execute_result"
    }
   ],
   "source": [
    "# 최댓값 구하기\n",
    "\n",
    "def maxx(n):\n",
    "    m = n[0]\n",
    "    for i in range(len(n)):\n",
    "        if n[i]>m :\n",
    "            m = n[i]\n",
    "    return m\n",
    "\n",
    "maxx([1,2,3,4,5,6,10,8])"
   ]
  },
  {
   "cell_type": "code",
   "execution_count": 24,
   "id": "80d2f4cc",
   "metadata": {},
   "outputs": [
    {
     "data": {
      "text/plain": [
       "1"
      ]
     },
     "execution_count": 24,
     "metadata": {},
     "output_type": "execute_result"
    }
   ],
   "source": [
    "# 최댓값의 인덱스를 반환\n",
    "\n",
    "def maxmax(n):\n",
    "    m = n[0]\n",
    "    for i in range(len(n)):\n",
    "        if n[i]>m:\n",
    "            m = n[i]\n",
    "            a = i\n",
    "    return a\n",
    "\n",
    "maxmax([12,72,14,16,29,34,13,26])"
   ]
  },
  {
   "cell_type": "code",
   "execution_count": 25,
   "id": "8482f599",
   "metadata": {},
   "outputs": [],
   "source": [
    "def name(a):\n",
    "    result = set()\n",
    "    for i in range(0, len(a)-1):\n",
    "        for j in range(i+1, len(a)):\n",
    "            if a[i] == a[j]:\n",
    "                result.add(a[i])\n",
    "    return result"
   ]
  },
  {
   "cell_type": "code",
   "execution_count": 26,
   "id": "e902d0ab",
   "metadata": {},
   "outputs": [
    {
     "data": {
      "text/plain": [
       "{'a', 'b', 'd'}"
      ]
     },
     "execution_count": 26,
     "metadata": {},
     "output_type": "execute_result"
    }
   ],
   "source": [
    "name(['a','b','c','a','a','b','d','e','f','d'])"
   ]
  },
  {
   "cell_type": "markdown",
   "id": "0b042530",
   "metadata": {},
   "source": [
    "## 2. 재귀 호출"
   ]
  },
  {
   "cell_type": "code",
   "execution_count": 29,
   "id": "13744c42",
   "metadata": {},
   "outputs": [],
   "source": [
    "# 팩토리얼 구하기\n",
    "\n",
    "def factorial(n):\n",
    "    f = 1\n",
    "    for i in range(1,n+1):\n",
    "        f *= i\n",
    "    return f"
   ]
  },
  {
   "cell_type": "code",
   "execution_count": 30,
   "id": "751c9c62",
   "metadata": {},
   "outputs": [
    {
     "data": {
      "text/plain": [
       "120"
      ]
     },
     "execution_count": 30,
     "metadata": {},
     "output_type": "execute_result"
    }
   ],
   "source": [
    "factorial(5)"
   ]
  },
  {
   "cell_type": "code",
   "execution_count": 32,
   "id": "f6e2a577",
   "metadata": {},
   "outputs": [],
   "source": [
    "# 재귀 호출은 돌아가 자기 자신을 또 부른다.\n",
    "\n",
    "def hi():\n",
    "    print('Hi')\n",
    "    hi()"
   ]
  },
  {
   "cell_type": "code",
   "execution_count": 35,
   "id": "ea6637ab",
   "metadata": {},
   "outputs": [],
   "source": [
    "#hi()"
   ]
  },
  {
   "cell_type": "code",
   "execution_count": 36,
   "id": "e97e161d",
   "metadata": {},
   "outputs": [
    {
     "data": {
      "text/plain": [
       "120"
      ]
     },
     "execution_count": 36,
     "metadata": {},
     "output_type": "execute_result"
    }
   ],
   "source": [
    "# 재귀 호출로 팩토리얼 함수 만들기\n",
    "\n",
    "def fact(n):\n",
    "    if n<= 1:\n",
    "        return 1\n",
    "    return n*fact(n-1)\n",
    "\n",
    "fact(5)"
   ]
  },
  {
   "cell_type": "code",
   "execution_count": 3,
   "id": "cee48029",
   "metadata": {},
   "outputs": [],
   "source": [
    "# 최대공약수 구하기- 둘 중 작은 수를 지정하고 while문 안에서 숫자를 줄여가면서 공통된 약수를 찾는다.\n",
    "\n",
    "def gcd(a,b):\n",
    "    i = min(a,b)\n",
    "    while True:\n",
    "        if (a % i == 0) and (b % i == 0):\n",
    "            return i\n",
    "        i -= 1    "
   ]
  },
  {
   "cell_type": "code",
   "execution_count": 4,
   "id": "86190a7d",
   "metadata": {},
   "outputs": [
    {
     "data": {
      "text/plain": [
       "7"
      ]
     },
     "execution_count": 4,
     "metadata": {},
     "output_type": "execute_result"
    }
   ],
   "source": [
    "gcd(14, 91)"
   ]
  },
  {
   "cell_type": "code",
   "execution_count": 11,
   "id": "ac5c9c8d",
   "metadata": {},
   "outputs": [],
   "source": [
    "# 유클리드 호제법으로 최대공약수 구하기\n",
    "\n",
    "def gcd(a,b):\n",
    "#    print('gcd:',a,b)\n",
    "    if b == 0:\n",
    "        return a\n",
    "    return gcd(b, a%b)"
   ]
  },
  {
   "cell_type": "code",
   "execution_count": 12,
   "id": "294ede9e",
   "metadata": {},
   "outputs": [
    {
     "data": {
      "text/plain": [
       "12"
      ]
     },
     "execution_count": 12,
     "metadata": {},
     "output_type": "execute_result"
    }
   ],
   "source": [
    "gcd(60,24)"
   ]
  },
  {
   "cell_type": "code",
   "execution_count": 22,
   "id": "72f77f05",
   "metadata": {},
   "outputs": [],
   "source": [
    "# 재귀로 피보나치 함수 만들기\n",
    "\n",
    "def pibo(n):\n",
    "    if n==1:\n",
    "        return 0\n",
    "    if n==2 and 3:\n",
    "        return 1\n",
    "    return pibo(n-2) + pibo(n-1)"
   ]
  },
  {
   "cell_type": "code",
   "execution_count": 23,
   "id": "6456dfff",
   "metadata": {},
   "outputs": [
    {
     "data": {
      "text/plain": [
       "8"
      ]
     },
     "execution_count": 23,
     "metadata": {},
     "output_type": "execute_result"
    }
   ],
   "source": [
    "pibo(7)"
   ]
  },
  {
   "cell_type": "markdown",
   "id": "3e93983c",
   "metadata": {},
   "source": [
    "## 3. 탐색과 정렬"
   ]
  },
  {
   "cell_type": "code",
   "execution_count": 24,
   "id": "791d48fb",
   "metadata": {},
   "outputs": [],
   "source": [
    "# 순차 탐색- 리스트 내의 특정 원소 찾아서 인덱스로 반환\n",
    "\n",
    "def search_list(a,x):\n",
    "    for i in range(len(a)):\n",
    "        if a[i] == x:\n",
    "            return i"
   ]
  },
  {
   "cell_type": "code",
   "execution_count": 26,
   "id": "302577b0",
   "metadata": {},
   "outputs": [
    {
     "data": {
      "text/plain": [
       "7"
      ]
     },
     "execution_count": 26,
     "metadata": {},
     "output_type": "execute_result"
    }
   ],
   "source": [
    "search_list([30,24,39,10,2,3,9,7],7)"
   ]
  },
  {
   "cell_type": "code",
   "execution_count": 27,
   "id": "dbc166f9",
   "metadata": {},
   "outputs": [
    {
     "data": {
      "text/plain": [
       "1"
      ]
     },
     "execution_count": 27,
     "metadata": {},
     "output_type": "execute_result"
    }
   ],
   "source": [
    "search_list([30,24,492,23,3],24)"
   ]
  },
  {
   "cell_type": "markdown",
   "id": "833ac1a8",
   "metadata": {},
   "source": [
    "정렬 알고리즘: 선택 정렬(Selection sort), 삽입 정렬(Insertion sort), 병합 정렬(Merge sort), 퀵 정렬(Quicksort), 거품 정렬(Bubble sort) 등이 있다."
   ]
  },
  {
   "cell_type": "code",
   "execution_count": 39,
   "id": "4ed309cc",
   "metadata": {},
   "outputs": [],
   "source": [
    "# 선택 정렬\n",
    "\n",
    "def sel_sort(a):\n",
    "    for i in range(len(a)):\n",
    "        min_index = i\n",
    "        for j in range(i+1, len(a)):\n",
    "            if a[j] < a[min_index]:\n",
    "                min_index = j\n",
    "        a[i], a[min_index] = a[min_index], a[i]\n",
    "    return a"
   ]
  },
  {
   "cell_type": "code",
   "execution_count": 41,
   "id": "cbf607b0",
   "metadata": {},
   "outputs": [
    {
     "data": {
      "text/plain": [
       "[1, 2, 3, 4, 5, 6]"
      ]
     },
     "execution_count": 41,
     "metadata": {},
     "output_type": "execute_result"
    }
   ],
   "source": [
    "sel_sort([5,2,6,1,3,4])"
   ]
  },
  {
   "cell_type": "code",
   "execution_count": 45,
   "id": "86ee5b4f",
   "metadata": {},
   "outputs": [],
   "source": [
    "# 삽입 정렬\n",
    "\n",
    "def find_index(a, x):\n",
    "    for i in range(len(a)):\n",
    "        if a[i] > x:\n",
    "            return i\n",
    "    return len(a)\n",
    "\n",
    "def sort_(a):\n",
    "    result = []\n",
    "    while a:\n",
    "        value = a.pop(0)\n",
    "        index = find_index(result, value)\n",
    "        result.insert(index, value)\n",
    "    return result"
   ]
  },
  {
   "cell_type": "code",
   "execution_count": 46,
   "id": "32ea7fbb",
   "metadata": {},
   "outputs": [
    {
     "data": {
      "text/plain": [
       "[1, 2, 3, 4, 5, 6]"
      ]
     },
     "execution_count": 46,
     "metadata": {},
     "output_type": "execute_result"
    }
   ],
   "source": [
    "sort_([2,6,3,4,1,5])"
   ]
  },
  {
   "cell_type": "code",
   "execution_count": 71,
   "id": "b98b31b3",
   "metadata": {},
   "outputs": [],
   "source": [
    "# 삽입 정렬\n",
    "\n",
    "def sortt(a):\n",
    "    for i in range(1, len(a)):\n",
    "        key = a[i]\n",
    "        j = i - 1\n",
    "        \n",
    "        while j >= 0 and a[j]> key:\n",
    "            a[j+1] = a[j]\n",
    "            j -= 1\n",
    "        a[j+1] = key\n",
    "    \n",
    "    return a"
   ]
  },
  {
   "cell_type": "code",
   "execution_count": 72,
   "id": "b25f9be5",
   "metadata": {},
   "outputs": [
    {
     "data": {
      "text/plain": [
       "[1, 2, 3, 4, 5]"
      ]
     },
     "execution_count": 72,
     "metadata": {},
     "output_type": "execute_result"
    }
   ],
   "source": [
    "sortt([2,4,1,3,5])"
   ]
  },
  {
   "cell_type": "code",
   "execution_count": 92,
   "id": "2ae2e590",
   "metadata": {},
   "outputs": [
    {
     "name": "stdout",
     "output_type": "stream",
     "text": [
      "[1, 2, 3, 4, 5, 6, 7, 8, 9, 10]\n"
     ]
    }
   ],
   "source": [
    "# 병합 정렬\n",
    "# 입력: 리스트 a\n",
    "# 출력: 없음(입력으로 주어진 a가 정렬됨)\n",
    "\n",
    "def merge_sort(a):\n",
    "    n = len(a)\n",
    "    # 종료 조건: 정렬할 리스트의 자료 개수가 한 개 이하이면 정렬할 필요가 없음\n",
    "    if n <= 1:\n",
    "        return\n",
    "    # 그룹을 나누어 각각 병합 정렬을 호출하는 과정\n",
    "    mid = n // 2  # 중간을 기준으로 두 그룹으로 나눔\n",
    "    g1 = a[:mid]\n",
    "    g2 = a[mid:]\n",
    "    merge_sort(g1)  # 재귀 호출로 첫 번째 그룹을 정렬\n",
    "    merge_sort(g2)  # 재귀 호출로 두 번째 그룹을 정렬\n",
    "    # 두 그룹을 하나로 병합\n",
    "    i1 = 0\n",
    "    i2 = 0\n",
    "    ia = 0\n",
    "    while i1 < len(g1) and i2 < len(g2):\n",
    "        if g1[i1] < g2[i2]:\n",
    "            a[ia] = g1[i1]\n",
    "            i1 += 1\n",
    "            ia += 1\n",
    "        else:\n",
    "            a[ia] = g2[i2]\n",
    "            i2 += 1\n",
    "            ia += 1\n",
    "    # 아직 남아 있는 자료들을 결과에 추가\n",
    "    while i1 < len(g1):\n",
    "        a[ia] = g1[i1]\n",
    "        i1 += 1\n",
    "        ia += 1\n",
    "    while i2 < len(g2):\n",
    "        a[ia] = g2[i2]\n",
    "        i2 += 1\n",
    "        ia += 1\n",
    "\n",
    "d = [6, 8, 3, 9, 10, 1, 2, 4, 7, 5]\n",
    "merge_sort(d)\n",
    "print(d)\n"
   ]
  },
  {
   "cell_type": "code",
   "execution_count": 103,
   "id": "d26a84e7",
   "metadata": {},
   "outputs": [],
   "source": [
    "# 퀵 정렬- 기준값을 하나 정하고 그 수와 비교하며 작은 그룹과 큰 그룹을 만든 후, 합친다.\n",
    "\n",
    "def quick_sort(a):\n",
    "    if len(a) <= 1:\n",
    "        return a\n",
    "    pivot = a[-1] # 기준점 하나 임의로 정하기\n",
    "    g1 = []\n",
    "    g2 = []\n",
    "    for i in range(len(a)-1):\n",
    "        if a[i] < pivot:\n",
    "            g1.append(a[i])\n",
    "        else:\n",
    "            g2.append(a[i])\n",
    "    return quick_sort(g1) + [pivot] + quick_sort(g2)"
   ]
  },
  {
   "cell_type": "code",
   "execution_count": 104,
   "id": "09b4960d",
   "metadata": {},
   "outputs": [
    {
     "data": {
      "text/plain": [
       "[1, 2, 3, 4, 5, 6, 7, 8, 9, 10]"
      ]
     },
     "execution_count": 104,
     "metadata": {},
     "output_type": "execute_result"
    }
   ],
   "source": [
    "quick_sort([6,8,7,2,4,1,3,9,10,5])"
   ]
  },
  {
   "cell_type": "code",
   "execution_count": 105,
   "id": "a3ba1d55",
   "metadata": {},
   "outputs": [
    {
     "name": "stdout",
     "output_type": "stream",
     "text": [
      "[1, 2, 3, 4, 5, 6, 7, 8, 9, 10]\n"
     ]
    }
   ],
   "source": [
    "# 퀵 정렬 범위 지정\n",
    "\n",
    "def quick_sort_sub(a, start, end):\n",
    "    if end - start <= 0:\n",
    "        return\n",
    "    # 기준 값을 정하고 기준 값에 맞춰 리스트 안에서 각 자료의 위치를 맞춤\n",
    "    # [기준 값보다 작은 값들, 기준 값, 기준 값보다 큰 값들]\n",
    "    pivot = a[end]    # 편의상 리스트의 마지막 값을 기준 값으로 정합\n",
    "    i = start\n",
    "    for j in range(start, end):\n",
    "        if a[j] <= pivot:\n",
    "            a[i], a[j] = a[j], a[i]\n",
    "            i += 1\n",
    "    a[i], a[end] = a[end], a[i]\n",
    "    # 재귀 호출 부분\n",
    "    quick_sort_sub(a, start, i - 1) # 기준 값보다 작은 그룹을 재귀 호출로 다시 정렬\n",
    "    quick_sort_sub(a, i + 1, end)   # 기준 값보다 큰 그룹을 재귀 호출로 다시 정렬\n",
    "\n",
    "# 리스트 전체(0 ~ len(a)-1)를 대상으로 재귀 호출 함수 호출\n",
    "def quick_sort(a):\n",
    "    quick_sort_sub(a, 0, len(a) - 1)\n",
    "\n",
    "d = [6, 8, 3, 9, 10, 1, 2, 4, 7, 5]\n",
    "quick_sort(d)\n",
    "print(d)"
   ]
  },
  {
   "cell_type": "code",
   "execution_count": null,
   "id": "86d2dfa5",
   "metadata": {},
   "outputs": [],
   "source": []
  }
 ],
 "metadata": {
  "kernelspec": {
   "display_name": "Python 3 (ipykernel)",
   "language": "python",
   "name": "python3"
  },
  "language_info": {
   "codemirror_mode": {
    "name": "ipython",
    "version": 3
   },
   "file_extension": ".py",
   "mimetype": "text/x-python",
   "name": "python",
   "nbconvert_exporter": "python",
   "pygments_lexer": "ipython3",
   "version": "3.9.7"
  }
 },
 "nbformat": 4,
 "nbformat_minor": 5
}
